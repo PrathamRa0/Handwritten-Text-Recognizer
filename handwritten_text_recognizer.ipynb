{
  "cells": [
    {
      "cell_type": "markdown",
      "metadata": {
        "id": "view-in-github",
        "colab_type": "text"
      },
      "source": [
        "<a href=\"https://colab.research.google.com/github/PrathamRa0/Handwritten-Text-Recognizer/blob/main/handwritten_text_recognizer.ipynb\" target=\"_parent\"><img src=\"https://colab.research.google.com/assets/colab-badge.svg\" alt=\"Open In Colab\"/></a>"
      ]
    },
    {
      "cell_type": "markdown",
      "source": [
        "## Importing the datasets directly from kaggle"
      ],
      "metadata": {
        "id": "PnVQxic-sYbR"
      },
      "id": "PnVQxic-sYbR"
    },
    {
      "cell_type": "code",
      "source": [
        "#install kaggle\n",
        "! pip install -q kaggle"
      ],
      "metadata": {
        "id": "o-CxPWaWPErp"
      },
      "id": "o-CxPWaWPErp",
      "execution_count": null,
      "outputs": []
    },
    {
      "cell_type": "code",
      "source": [
        "from google.colab import files\n",
        "files.upload()"
      ],
      "metadata": {
        "colab": {
          "resources": {
            "http://localhost:8080/nbextensions/google.colab/files.js": {
              "data": "Ly8gQ29weXJpZ2h0IDIwMTcgR29vZ2xlIExMQwovLwovLyBMaWNlbnNlZCB1bmRlciB0aGUgQXBhY2hlIExpY2Vuc2UsIFZlcnNpb24gMi4wICh0aGUgIkxpY2Vuc2UiKTsKLy8geW91IG1heSBub3QgdXNlIHRoaXMgZmlsZSBleGNlcHQgaW4gY29tcGxpYW5jZSB3aXRoIHRoZSBMaWNlbnNlLgovLyBZb3UgbWF5IG9idGFpbiBhIGNvcHkgb2YgdGhlIExpY2Vuc2UgYXQKLy8KLy8gICAgICBodHRwOi8vd3d3LmFwYWNoZS5vcmcvbGljZW5zZXMvTElDRU5TRS0yLjAKLy8KLy8gVW5sZXNzIHJlcXVpcmVkIGJ5IGFwcGxpY2FibGUgbGF3IG9yIGFncmVlZCB0byBpbiB3cml0aW5nLCBzb2Z0d2FyZQovLyBkaXN0cmlidXRlZCB1bmRlciB0aGUgTGljZW5zZSBpcyBkaXN0cmlidXRlZCBvbiBhbiAiQVMgSVMiIEJBU0lTLAovLyBXSVRIT1VUIFdBUlJBTlRJRVMgT1IgQ09ORElUSU9OUyBPRiBBTlkgS0lORCwgZWl0aGVyIGV4cHJlc3Mgb3IgaW1wbGllZC4KLy8gU2VlIHRoZSBMaWNlbnNlIGZvciB0aGUgc3BlY2lmaWMgbGFuZ3VhZ2UgZ292ZXJuaW5nIHBlcm1pc3Npb25zIGFuZAovLyBsaW1pdGF0aW9ucyB1bmRlciB0aGUgTGljZW5zZS4KCi8qKgogKiBAZmlsZW92ZXJ2aWV3IEhlbHBlcnMgZm9yIGdvb2dsZS5jb2xhYiBQeXRob24gbW9kdWxlLgogKi8KKGZ1bmN0aW9uKHNjb3BlKSB7CmZ1bmN0aW9uIHNwYW4odGV4dCwgc3R5bGVBdHRyaWJ1dGVzID0ge30pIHsKICBjb25zdCBlbGVtZW50ID0gZG9jdW1lbnQuY3JlYXRlRWxlbWVudCgnc3BhbicpOwogIGVsZW1lbnQudGV4dENvbnRlbnQgPSB0ZXh0OwogIGZvciAoY29uc3Qga2V5IG9mIE9iamVjdC5rZXlzKHN0eWxlQXR0cmlidXRlcykpIHsKICAgIGVsZW1lbnQuc3R5bGVba2V5XSA9IHN0eWxlQXR0cmlidXRlc1trZXldOwogIH0KICByZXR1cm4gZWxlbWVudDsKfQoKLy8gTWF4IG51bWJlciBvZiBieXRlcyB3aGljaCB3aWxsIGJlIHVwbG9hZGVkIGF0IGEgdGltZS4KY29uc3QgTUFYX1BBWUxPQURfU0laRSA9IDEwMCAqIDEwMjQ7CgpmdW5jdGlvbiBfdXBsb2FkRmlsZXMoaW5wdXRJZCwgb3V0cHV0SWQpIHsKICBjb25zdCBzdGVwcyA9IHVwbG9hZEZpbGVzU3RlcChpbnB1dElkLCBvdXRwdXRJZCk7CiAgY29uc3Qgb3V0cHV0RWxlbWVudCA9IGRvY3VtZW50LmdldEVsZW1lbnRCeUlkKG91dHB1dElkKTsKICAvLyBDYWNoZSBzdGVwcyBvbiB0aGUgb3V0cHV0RWxlbWVudCB0byBtYWtlIGl0IGF2YWlsYWJsZSBmb3IgdGhlIG5leHQgY2FsbAogIC8vIHRvIHVwbG9hZEZpbGVzQ29udGludWUgZnJvbSBQeXRob24uCiAgb3V0cHV0RWxlbWVudC5zdGVwcyA9IHN0ZXBzOwoKICByZXR1cm4gX3VwbG9hZEZpbGVzQ29udGludWUob3V0cHV0SWQpOwp9CgovLyBUaGlzIGlzIHJvdWdobHkgYW4gYXN5bmMgZ2VuZXJhdG9yIChub3Qgc3VwcG9ydGVkIGluIHRoZSBicm93c2VyIHlldCksCi8vIHdoZXJlIHRoZXJlIGFyZSBtdWx0aXBsZSBhc3luY2hyb25vdXMgc3RlcHMgYW5kIHRoZSBQeXRob24gc2lkZSBpcyBnb2luZwovLyB0byBwb2xsIGZvciBjb21wbGV0aW9uIG9mIGVhY2ggc3RlcC4KLy8gVGhpcyB1c2VzIGEgUHJvbWlzZSB0byBibG9jayB0aGUgcHl0aG9uIHNpZGUgb24gY29tcGxldGlvbiBvZiBlYWNoIHN0ZXAsCi8vIHRoZW4gcGFzc2VzIHRoZSByZXN1bHQgb2YgdGhlIHByZXZpb3VzIHN0ZXAgYXMgdGhlIGlucHV0IHRvIHRoZSBuZXh0IHN0ZXAuCmZ1bmN0aW9uIF91cGxvYWRGaWxlc0NvbnRpbnVlKG91dHB1dElkKSB7CiAgY29uc3Qgb3V0cHV0RWxlbWVudCA9IGRvY3VtZW50LmdldEVsZW1lbnRCeUlkKG91dHB1dElkKTsKICBjb25zdCBzdGVwcyA9IG91dHB1dEVsZW1lbnQuc3RlcHM7CgogIGNvbnN0IG5leHQgPSBzdGVwcy5uZXh0KG91dHB1dEVsZW1lbnQubGFzdFByb21pc2VWYWx1ZSk7CiAgcmV0dXJuIFByb21pc2UucmVzb2x2ZShuZXh0LnZhbHVlLnByb21pc2UpLnRoZW4oKHZhbHVlKSA9PiB7CiAgICAvLyBDYWNoZSB0aGUgbGFzdCBwcm9taXNlIHZhbHVlIHRvIG1ha2UgaXQgYXZhaWxhYmxlIHRvIHRoZSBuZXh0CiAgICAvLyBzdGVwIG9mIHRoZSBnZW5lcmF0b3IuCiAgICBvdXRwdXRFbGVtZW50Lmxhc3RQcm9taXNlVmFsdWUgPSB2YWx1ZTsKICAgIHJldHVybiBuZXh0LnZhbHVlLnJlc3BvbnNlOwogIH0pOwp9CgovKioKICogR2VuZXJhdG9yIGZ1bmN0aW9uIHdoaWNoIGlzIGNhbGxlZCBiZXR3ZWVuIGVhY2ggYXN5bmMgc3RlcCBvZiB0aGUgdXBsb2FkCiAqIHByb2Nlc3MuCiAqIEBwYXJhbSB7c3RyaW5nfSBpbnB1dElkIEVsZW1lbnQgSUQgb2YgdGhlIGlucHV0IGZpbGUgcGlja2VyIGVsZW1lbnQuCiAqIEBwYXJhbSB7c3RyaW5nfSBvdXRwdXRJZCBFbGVtZW50IElEIG9mIHRoZSBvdXRwdXQgZGlzcGxheS4KICogQHJldHVybiB7IUl0ZXJhYmxlPCFPYmplY3Q+fSBJdGVyYWJsZSBvZiBuZXh0IHN0ZXBzLgogKi8KZnVuY3Rpb24qIHVwbG9hZEZpbGVzU3RlcChpbnB1dElkLCBvdXRwdXRJZCkgewogIGNvbnN0IGlucHV0RWxlbWVudCA9IGRvY3VtZW50LmdldEVsZW1lbnRCeUlkKGlucHV0SWQpOwogIGlucHV0RWxlbWVudC5kaXNhYmxlZCA9IGZhbHNlOwoKICBjb25zdCBvdXRwdXRFbGVtZW50ID0gZG9jdW1lbnQuZ2V0RWxlbWVudEJ5SWQob3V0cHV0SWQpOwogIG91dHB1dEVsZW1lbnQuaW5uZXJIVE1MID0gJyc7CgogIGNvbnN0IHBpY2tlZFByb21pc2UgPSBuZXcgUHJvbWlzZSgocmVzb2x2ZSkgPT4gewogICAgaW5wdXRFbGVtZW50LmFkZEV2ZW50TGlzdGVuZXIoJ2NoYW5nZScsIChlKSA9PiB7CiAgICAgIHJlc29sdmUoZS50YXJnZXQuZmlsZXMpOwogICAgfSk7CiAgfSk7CgogIGNvbnN0IGNhbmNlbCA9IGRvY3VtZW50LmNyZWF0ZUVsZW1lbnQoJ2J1dHRvbicpOwogIGlucHV0RWxlbWVudC5wYXJlbnRFbGVtZW50LmFwcGVuZENoaWxkKGNhbmNlbCk7CiAgY2FuY2VsLnRleHRDb250ZW50ID0gJ0NhbmNlbCB1cGxvYWQnOwogIGNvbnN0IGNhbmNlbFByb21pc2UgPSBuZXcgUHJvbWlzZSgocmVzb2x2ZSkgPT4gewogICAgY2FuY2VsLm9uY2xpY2sgPSAoKSA9PiB7CiAgICAgIHJlc29sdmUobnVsbCk7CiAgICB9OwogIH0pOwoKICAvLyBXYWl0IGZvciB0aGUgdXNlciB0byBwaWNrIHRoZSBmaWxlcy4KICBjb25zdCBmaWxlcyA9IHlpZWxkIHsKICAgIHByb21pc2U6IFByb21pc2UucmFjZShbcGlja2VkUHJvbWlzZSwgY2FuY2VsUHJvbWlzZV0pLAogICAgcmVzcG9uc2U6IHsKICAgICAgYWN0aW9uOiAnc3RhcnRpbmcnLAogICAgfQogIH07CgogIGNhbmNlbC5yZW1vdmUoKTsKCiAgLy8gRGlzYWJsZSB0aGUgaW5wdXQgZWxlbWVudCBzaW5jZSBmdXJ0aGVyIHBpY2tzIGFyZSBub3QgYWxsb3dlZC4KICBpbnB1dEVsZW1lbnQuZGlzYWJsZWQgPSB0cnVlOwoKICBpZiAoIWZpbGVzKSB7CiAgICByZXR1cm4gewogICAgICByZXNwb25zZTogewogICAgICAgIGFjdGlvbjogJ2NvbXBsZXRlJywKICAgICAgfQogICAgfTsKICB9CgogIGZvciAoY29uc3QgZmlsZSBvZiBmaWxlcykgewogICAgY29uc3QgbGkgPSBkb2N1bWVudC5jcmVhdGVFbGVtZW50KCdsaScpOwogICAgbGkuYXBwZW5kKHNwYW4oZmlsZS5uYW1lLCB7Zm9udFdlaWdodDogJ2JvbGQnfSkpOwogICAgbGkuYXBwZW5kKHNwYW4oCiAgICAgICAgYCgke2ZpbGUudHlwZSB8fCAnbi9hJ30pIC0gJHtmaWxlLnNpemV9IGJ5dGVzLCBgICsKICAgICAgICBgbGFzdCBtb2RpZmllZDogJHsKICAgICAgICAgICAgZmlsZS5sYXN0TW9kaWZpZWREYXRlID8gZmlsZS5sYXN0TW9kaWZpZWREYXRlLnRvTG9jYWxlRGF0ZVN0cmluZygpIDoKICAgICAgICAgICAgICAgICAgICAgICAgICAgICAgICAgICAgJ24vYSd9IC0gYCkpOwogICAgY29uc3QgcGVyY2VudCA9IHNwYW4oJzAlIGRvbmUnKTsKICAgIGxpLmFwcGVuZENoaWxkKHBlcmNlbnQpOwoKICAgIG91dHB1dEVsZW1lbnQuYXBwZW5kQ2hpbGQobGkpOwoKICAgIGNvbnN0IGZpbGVEYXRhUHJvbWlzZSA9IG5ldyBQcm9taXNlKChyZXNvbHZlKSA9PiB7CiAgICAgIGNvbnN0IHJlYWRlciA9IG5ldyBGaWxlUmVhZGVyKCk7CiAgICAgIHJlYWRlci5vbmxvYWQgPSAoZSkgPT4gewogICAgICAgIHJlc29sdmUoZS50YXJnZXQucmVzdWx0KTsKICAgICAgfTsKICAgICAgcmVhZGVyLnJlYWRBc0FycmF5QnVmZmVyKGZpbGUpOwogICAgfSk7CiAgICAvLyBXYWl0IGZvciB0aGUgZGF0YSB0byBiZSByZWFkeS4KICAgIGxldCBmaWxlRGF0YSA9IHlpZWxkIHsKICAgICAgcHJvbWlzZTogZmlsZURhdGFQcm9taXNlLAogICAgICByZXNwb25zZTogewogICAgICAgIGFjdGlvbjogJ2NvbnRpbnVlJywKICAgICAgfQogICAgfTsKCiAgICAvLyBVc2UgYSBjaHVua2VkIHNlbmRpbmcgdG8gYXZvaWQgbWVzc2FnZSBzaXplIGxpbWl0cy4gU2VlIGIvNjIxMTU2NjAuCiAgICBsZXQgcG9zaXRpb24gPSAwOwogICAgZG8gewogICAgICBjb25zdCBsZW5ndGggPSBNYXRoLm1pbihmaWxlRGF0YS5ieXRlTGVuZ3RoIC0gcG9zaXRpb24sIE1BWF9QQVlMT0FEX1NJWkUpOwogICAgICBjb25zdCBjaHVuayA9IG5ldyBVaW50OEFycmF5KGZpbGVEYXRhLCBwb3NpdGlvbiwgbGVuZ3RoKTsKICAgICAgcG9zaXRpb24gKz0gbGVuZ3RoOwoKICAgICAgY29uc3QgYmFzZTY0ID0gYnRvYShTdHJpbmcuZnJvbUNoYXJDb2RlLmFwcGx5KG51bGwsIGNodW5rKSk7CiAgICAgIHlpZWxkIHsKICAgICAgICByZXNwb25zZTogewogICAgICAgICAgYWN0aW9uOiAnYXBwZW5kJywKICAgICAgICAgIGZpbGU6IGZpbGUubmFtZSwKICAgICAgICAgIGRhdGE6IGJhc2U2NCwKICAgICAgICB9LAogICAgICB9OwoKICAgICAgbGV0IHBlcmNlbnREb25lID0gZmlsZURhdGEuYnl0ZUxlbmd0aCA9PT0gMCA/CiAgICAgICAgICAxMDAgOgogICAgICAgICAgTWF0aC5yb3VuZCgocG9zaXRpb24gLyBmaWxlRGF0YS5ieXRlTGVuZ3RoKSAqIDEwMCk7CiAgICAgIHBlcmNlbnQudGV4dENvbnRlbnQgPSBgJHtwZXJjZW50RG9uZX0lIGRvbmVgOwoKICAgIH0gd2hpbGUgKHBvc2l0aW9uIDwgZmlsZURhdGEuYnl0ZUxlbmd0aCk7CiAgfQoKICAvLyBBbGwgZG9uZS4KICB5aWVsZCB7CiAgICByZXNwb25zZTogewogICAgICBhY3Rpb246ICdjb21wbGV0ZScsCiAgICB9CiAgfTsKfQoKc2NvcGUuZ29vZ2xlID0gc2NvcGUuZ29vZ2xlIHx8IHt9OwpzY29wZS5nb29nbGUuY29sYWIgPSBzY29wZS5nb29nbGUuY29sYWIgfHwge307CnNjb3BlLmdvb2dsZS5jb2xhYi5fZmlsZXMgPSB7CiAgX3VwbG9hZEZpbGVzLAogIF91cGxvYWRGaWxlc0NvbnRpbnVlLAp9Owp9KShzZWxmKTsK",
              "ok": true,
              "headers": [
                [
                  "content-type",
                  "application/javascript"
                ]
              ],
              "status": 200,
              "status_text": ""
            }
          },
          "base_uri": "https://localhost:8080/",
          "height": 91
        },
        "id": "sC16VzlqPGeZ",
        "outputId": "ea473c05-7c5a-4d09-abfb-cfee774e5748"
      },
      "id": "sC16VzlqPGeZ",
      "execution_count": null,
      "outputs": [
        {
          "output_type": "display_data",
          "data": {
            "text/plain": [
              "<IPython.core.display.HTML object>"
            ],
            "text/html": [
              "\n",
              "     <input type=\"file\" id=\"files-3b0bc2e7-68eb-4d47-a820-3129d7fa3010\" name=\"files[]\" multiple disabled\n",
              "        style=\"border:none\" />\n",
              "     <output id=\"result-3b0bc2e7-68eb-4d47-a820-3129d7fa3010\">\n",
              "      Upload widget is only available when the cell has been executed in the\n",
              "      current browser session. Please rerun this cell to enable.\n",
              "      </output>\n",
              "      <script src=\"/nbextensions/google.colab/files.js\"></script> "
            ]
          },
          "metadata": {}
        },
        {
          "output_type": "stream",
          "name": "stdout",
          "text": [
            "Saving kaggle.json to kaggle.json\n"
          ]
        },
        {
          "output_type": "execute_result",
          "data": {
            "text/plain": [
              "{'kaggle.json': b'{\"username\":\"prathamra014\",\"key\":\"d9770406706b2b56b86a477e6bf5acce\"}'}"
            ]
          },
          "metadata": {},
          "execution_count": 20
        }
      ]
    },
    {
      "cell_type": "code",
      "source": [
        "#create a kaggle folder\n",
        "! mkdir ~/.kaggle"
      ],
      "metadata": {
        "id": "fJk_fREuPGU3"
      },
      "id": "fJk_fREuPGU3",
      "execution_count": null,
      "outputs": []
    },
    {
      "cell_type": "code",
      "source": [
        "#copy the kaggle.json to folder created\n",
        "! cp kaggle.json ~/.kaggle/\n"
      ],
      "metadata": {
        "id": "YuCNGIAEPGPQ"
      },
      "id": "YuCNGIAEPGPQ",
      "execution_count": null,
      "outputs": []
    },
    {
      "cell_type": "code",
      "source": [
        "#Permission for the json to act'\n",
        "! chmod 600 ~/.kaggle/kaggle.json"
      ],
      "metadata": {
        "id": "8hStBA-HPGI8"
      },
      "id": "8hStBA-HPGI8",
      "execution_count": null,
      "outputs": []
    },
    {
      "cell_type": "code",
      "source": [
        "#list alll the datasets in kaggle\n",
        "! kaggle datasets list"
      ],
      "metadata": {
        "colab": {
          "base_uri": "https://localhost:8080/"
        },
        "id": "gblWpa0hPF9d",
        "outputId": "07fc8fa2-0b87-49f5-dcc2-3f72e03ac21c"
      },
      "id": "gblWpa0hPF9d",
      "execution_count": null,
      "outputs": [
        {
          "output_type": "stream",
          "name": "stdout",
          "text": [
            "ref                                                                   title                                                size  lastUpdated          downloadCount  voteCount  usabilityRating  \n",
            "--------------------------------------------------------------------  --------------------------------------------------  -----  -------------------  -------------  ---------  ---------------  \n",
            "victorsoeiro/netflix-tv-shows-and-movies                              Netflix TV Shows and Movies                           2MB  2022-05-15 00:01:23           6056        190  1.0              \n",
            "surajjha101/stores-area-and-sales-data                                Supermarket store branches sales analysis            10KB  2022-04-29 11:10:16           5410        158  1.0              \n",
            "devansodariya/student-performance-data                                Student Performance Dataset                           7KB  2022-05-26 13:55:09           2382        112  0.9705882        \n",
            "paradisejoy/top-hits-spotify-from-20002019                            Top Hits Spotify from 2000-2019                      94KB  2022-05-31 07:20:57           5068        128  1.0              \n",
            "odins0n/amex-parquet                                                  Amex Competition Data in Parquet Format               9GB  2022-05-25 23:20:19            627         84  1.0              \n",
            "muratkokludataset/date-fruit-datasets                                 Date Fruit Datasets                                 408KB  2022-04-03 09:25:39          12555       1551  0.9375           \n",
            "ruchi798/parquet-files-amexdefault-prediction                         Feather & Parquet Files : AMEX-Default Prediction    22GB  2022-05-26 05:46:53            480         70  1.0              \n",
            "iamsouravbanerjee/software-professional-salaries-2022                 Salary Dataset - 2022                               526KB  2022-06-08 08:19:34            613         23  1.0              \n",
            "muhammedtausif/best-selling-mobile-phones                             Best Selling Mobile Phones                            2KB  2022-05-22 17:31:44            849         28  1.0              \n",
            "andrewmvd/global-monkeypox-cases                                      Global Monkeypox Cases (daily updated)               32KB  2022-06-08 23:15:08             96         25  1.0              \n",
            "mdmahmudulhasansuzan/students-adaptability-level-in-online-education  Students Adaptability Level in Online Education       6KB  2022-04-16 04:46:28           8969        220  1.0              \n",
            "shariful07/student-mental-health                                      Student Mental health                                 2KB  2022-05-11 17:18:55           2782         53  0.8235294        \n",
            "dansbecker/melbourne-housing-snapshot                                 Melbourne Housing Snapshot                          451KB  2018-06-05 12:52:24          88334       1079  0.7058824        \n",
            "prasertk/cities-with-the-best-worklife-balance-2022                   Cities with the Best Work-Life Balance 2022           5KB  2022-06-01 09:15:52            463         18  0.9411765        \n",
            "mysarahmadbhat/airline-passenger-satisfaction                         Airline Passenger Satisfaction                        2MB  2022-05-19 11:46:02           1678         37  1.0              \n",
            "timmofeyy/-subway-locations-in-us                                     🍔 Subway Restaurants Locations in US                778KB  2022-06-03 13:07:01            323         20  1.0              \n",
            "datasnaek/youtube-new                                                 Trending YouTube Video Statistics                   201MB  2019-06-03 00:56:47         176515       4554  0.7941176        \n",
            "ahmedshahriarsakib/usa-real-estate-dataset                            USA Real Estate Dataset                               5MB  2022-06-04 21:40:25            524         20  1.0              \n",
            "zynicide/wine-reviews                                                 Wine Reviews                                         51MB  2017-11-27 17:08:04         161201       3321  0.7941176        \n",
            "kkhandekar/cost-of-living-index-by-city-2022                          Cost of Living Index by City 2022                    15KB  2022-06-03 02:50:24            559         23  1.0              \n"
          ]
        }
      ]
    },
    {
      "cell_type": "code",
      "source": [
        "! kaggle datasets download -d landlord/handwriting-recognition"
      ],
      "metadata": {
        "colab": {
          "base_uri": "https://localhost:8080/"
        },
        "id": "vSQKGC4xPFv_",
        "outputId": "4a4c8d39-ab7a-45c3-bf10-bf9e74caa4b9"
      },
      "id": "vSQKGC4xPFv_",
      "execution_count": null,
      "outputs": [
        {
          "output_type": "stream",
          "name": "stdout",
          "text": [
            "Downloading handwriting-recognition.zip to /content\n",
            "100% 1.25G/1.26G [00:16<00:00, 79.8MB/s]\n",
            "100% 1.26G/1.26G [00:16<00:00, 81.8MB/s]\n"
          ]
        }
      ]
    },
    {
      "cell_type": "markdown",
      "source": [
        "Unzipping the datasets."
      ],
      "metadata": {
        "id": "KnpQelGpsULu"
      },
      "id": "KnpQelGpsULu"
    },
    {
      "cell_type": "code",
      "source": [
        "!unzip handwriting-recognition.zip "
      ],
      "metadata": {
        "id": "AVVtXNuePRk0"
      },
      "id": "AVVtXNuePRk0",
      "execution_count": null,
      "outputs": []
    },
    {
      "cell_type": "code",
      "source": [
        "!kaggle datasets download -d vaibhao/handwritten-characters"
      ],
      "metadata": {
        "colab": {
          "base_uri": "https://localhost:8080/"
        },
        "id": "5_hUNuFreV4z",
        "outputId": "71ef410c-1edf-4178-cfb0-a97cfbd170cd"
      },
      "id": "5_hUNuFreV4z",
      "execution_count": null,
      "outputs": [
        {
          "output_type": "stream",
          "name": "stdout",
          "text": [
            "Downloading handwritten-characters.zip to /content\n",
            " 99% 1.60G/1.62G [00:18<00:00, 170MB/s]\n",
            "100% 1.62G/1.62G [00:18<00:00, 91.6MB/s]\n"
          ]
        }
      ]
    },
    {
      "cell_type": "code",
      "source": [
        "!unzip handwritten-characters.zip "
      ],
      "metadata": {
        "id": "c2mZu8qCem6X"
      },
      "id": "c2mZu8qCem6X",
      "execution_count": null,
      "outputs": []
    },
    {
      "cell_type": "markdown",
      "source": [
        "## Handwritten Text Recognition"
      ],
      "metadata": {
        "id": "LkfP0PzcvAPa"
      },
      "id": "LkfP0PzcvAPa"
    },
    {
      "cell_type": "code",
      "execution_count": null,
      "id": "3982a4df",
      "metadata": {
        "execution": {
          "iopub.execute_input": "2022-05-11T07:35:22.627643Z",
          "iopub.status.busy": "2022-05-11T07:35:22.626131Z",
          "iopub.status.idle": "2022-05-11T07:35:33.748358Z",
          "shell.execute_reply": "2022-05-11T07:35:33.747705Z",
          "shell.execute_reply.started": "2022-04-24T08:44:34.968521Z"
        },
        "papermill": {
          "duration": 11.14769,
          "end_time": "2022-05-11T07:35:33.748510",
          "exception": false,
          "start_time": "2022-05-11T07:35:22.600820",
          "status": "completed"
        },
        "tags": [],
        "colab": {
          "base_uri": "https://localhost:8080/"
        },
        "id": "3982a4df",
        "outputId": "59825b45-8679-4333-9216-1b37a1951a1f"
      },
      "outputs": [
        {
          "output_type": "stream",
          "name": "stdout",
          "text": [
            "Looking in indexes: https://pypi.org/simple, https://us-python.pkg.dev/colab-wheels/public/simple/\n",
            "Requirement already satisfied: imutils in /usr/local/lib/python3.7/dist-packages (0.5.4)\n"
          ]
        }
      ],
      "source": [
        "!pip install imutils"
      ]
    },
    {
      "cell_type": "code",
      "source": [
        "from google.colab import drive\n",
        "drive.mount('/content/drive')"
      ],
      "metadata": {
        "colab": {
          "base_uri": "https://localhost:8080/"
        },
        "id": "g7-j4vQRqlfF",
        "outputId": "b0e3928f-3100-49ef-e9e0-2a21440f1ccd"
      },
      "id": "g7-j4vQRqlfF",
      "execution_count": null,
      "outputs": [
        {
          "output_type": "stream",
          "name": "stdout",
          "text": [
            "Drive already mounted at /content/drive; to attempt to forcibly remount, call drive.mount(\"/content/drive\", force_remount=True).\n"
          ]
        }
      ]
    },
    {
      "cell_type": "code",
      "execution_count": null,
      "id": "a1ed4f0a",
      "metadata": {
        "_cell_guid": "79c7e3d0-c299-4dcb-8224-4455121ee9b0",
        "_uuid": "d629ff2d2480ee46fbb7e2d37f6b5fab8052498a",
        "execution": {
          "iopub.execute_input": "2022-05-11T07:35:33.802485Z",
          "iopub.status.busy": "2022-05-11T07:35:33.801574Z",
          "iopub.status.idle": "2022-05-11T07:35:40.182752Z",
          "shell.execute_reply": "2022-05-11T07:35:40.182136Z",
          "shell.execute_reply.started": "2022-04-24T08:44:42.464291Z"
        },
        "papermill": {
          "duration": 6.410849,
          "end_time": "2022-05-11T07:35:40.182900",
          "exception": false,
          "start_time": "2022-05-11T07:35:33.772051",
          "status": "completed"
        },
        "tags": [],
        "id": "a1ed4f0a"
      },
      "outputs": [],
      "source": [
        "import numpy as np\n",
        "import pandas as pd\n",
        "from keras.preprocessing.image import ImageDataGenerator\n",
        "import os\n",
        "import random \n",
        "import cv2\n",
        "import imutils\n",
        "import random\n",
        "import matplotlib.pyplot as plt\n",
        "import seaborn as sns\n",
        "from sklearn.preprocessing import LabelBinarizer\n",
        "from keras.utils import np_utils\n",
        "from keras.models import Sequential\n",
        "from keras import optimizers\n",
        "from sklearn.preprocessing import LabelBinarizer\n",
        "from keras import backend as K\n",
        "from keras.layers import Dense, Activation, Flatten, Dense,MaxPooling2D, Dropout\n",
        "from keras.layers import Conv2D, MaxPooling2D, BatchNormalization"
      ]
    },
    {
      "cell_type": "markdown",
      "source": [
        "Inserting the features and lables of images to train_data array"
      ],
      "metadata": {
        "id": "wMTbhWfCskwH"
      },
      "id": "wMTbhWfCskwH"
    },
    {
      "cell_type": "code",
      "execution_count": null,
      "id": "9484c95c",
      "metadata": {
        "execution": {
          "iopub.execute_input": "2022-05-11T07:35:40.235654Z",
          "iopub.status.busy": "2022-05-11T07:35:40.235010Z",
          "iopub.status.idle": "2022-05-11T07:50:25.517345Z",
          "shell.execute_reply": "2022-05-11T07:50:25.518421Z",
          "shell.execute_reply.started": "2022-04-24T08:44:42.472687Z"
        },
        "papermill": {
          "duration": 885.312655,
          "end_time": "2022-05-11T07:50:25.518645",
          "exception": false,
          "start_time": "2022-05-11T07:35:40.205990",
          "status": "completed"
        },
        "tags": [],
        "id": "9484c95c"
      },
      "outputs": [],
      "source": [
        "dir = \"/content/Train\"\n",
        "train_data = []\n",
        "img_size = 32\n",
        "non_chars = [\"#\",\"$\",\"&\",\"@\"]\n",
        "for i in os.listdir(dir):  #Points to the folders in the directory\n",
        "    if i in non_chars:\n",
        "        continue\n",
        "    count = 0\n",
        "    sub_directory = os.path.join(dir,i)\n",
        "    for j in os.listdir(sub_directory):  #Points to the images in the subdirectory\n",
        "        count+=1\n",
        "        if count > 4000:\n",
        "            break\n",
        "        img = cv2.imread(os.path.join(sub_directory,j),0)\n",
        "        img = cv2.resize(img,(img_size,img_size))\n",
        "        train_data.append([img,i])"
      ]
    },
    {
      "cell_type": "code",
      "source": [
        "print(train_data[0])"
      ],
      "metadata": {
        "colab": {
          "base_uri": "https://localhost:8080/"
        },
        "id": "mmP4r6Ilqa37",
        "outputId": "56b271d4-a104-4725-a56c-ce78ab6663a3"
      },
      "id": "mmP4r6Ilqa37",
      "execution_count": null,
      "outputs": [
        {
          "output_type": "stream",
          "name": "stdout",
          "text": [
            "[array([[0, 0, 0, ..., 1, 0, 0],\n",
            "       [0, 0, 0, ..., 0, 0, 2],\n",
            "       [0, 0, 0, ..., 0, 0, 0],\n",
            "       ...,\n",
            "       [1, 0, 1, ..., 0, 0, 0],\n",
            "       [3, 0, 0, ..., 0, 0, 0],\n",
            "       [0, 1, 2, ..., 0, 0, 0]], dtype=uint8), 'F']\n"
          ]
        }
      ]
    },
    {
      "cell_type": "code",
      "execution_count": null,
      "id": "8ba6c23e",
      "metadata": {
        "execution": {
          "iopub.execute_input": "2022-05-11T07:50:25.595922Z",
          "iopub.status.busy": "2022-05-11T07:50:25.595127Z",
          "iopub.status.idle": "2022-05-11T07:50:25.601162Z",
          "shell.execute_reply": "2022-05-11T07:50:25.601767Z",
          "shell.execute_reply.started": "2022-04-24T08:56:14.290874Z"
        },
        "papermill": {
          "duration": 0.048574,
          "end_time": "2022-05-11T07:50:25.601952",
          "exception": false,
          "start_time": "2022-05-11T07:50:25.553378",
          "status": "completed"
        },
        "tags": [],
        "colab": {
          "base_uri": "https://localhost:8080/"
        },
        "id": "8ba6c23e",
        "outputId": "b9608242-6b8e-47ec-9a24-b68716c7153a"
      },
      "outputs": [
        {
          "output_type": "execute_result",
          "data": {
            "text/plain": [
              "140000"
            ]
          },
          "metadata": {},
          "execution_count": 33
        }
      ],
      "source": [
        "len(train_data)"
      ]
    },
    {
      "cell_type": "markdown",
      "source": [
        "Inserting the features and labels of images of testing set to val_data array."
      ],
      "metadata": {
        "id": "9fMSZndbtAzT"
      },
      "id": "9fMSZndbtAzT"
    },
    {
      "cell_type": "code",
      "execution_count": null,
      "id": "b673fbd4",
      "metadata": {
        "execution": {
          "iopub.execute_input": "2022-05-11T07:50:25.681246Z",
          "iopub.status.busy": "2022-05-11T07:50:25.680474Z",
          "iopub.status.idle": "2022-05-11T07:51:40.502973Z",
          "shell.execute_reply": "2022-05-11T07:51:40.502469Z",
          "shell.execute_reply.started": "2022-04-24T08:56:14.30069Z"
        },
        "papermill": {
          "duration": 74.865307,
          "end_time": "2022-05-11T07:51:40.503112",
          "exception": false,
          "start_time": "2022-05-11T07:50:25.637805",
          "status": "completed"
        },
        "tags": [],
        "id": "b673fbd4"
      },
      "outputs": [],
      "source": [
        "val_dir = \"/content/Validation\"\n",
        "val_data = []\n",
        "img_size = 32\n",
        "for i in os.listdir(val_dir): \n",
        "    if i in non_chars:\n",
        "        continue\n",
        "    count = 0\n",
        "    sub_directory = os.path.join(val_dir,i)\n",
        "    for j in os.listdir(sub_directory):  \n",
        "        count+=1\n",
        "        if count > 1000:\n",
        "            break\n",
        "        img = cv2.imread(os.path.join(sub_directory,j),0)\n",
        "        img = cv2.resize(img,(img_size,img_size))\n",
        "        val_data.append([img,i])"
      ]
    },
    {
      "cell_type": "code",
      "execution_count": null,
      "id": "dc521eda",
      "metadata": {
        "execution": {
          "iopub.execute_input": "2022-05-11T07:51:40.552689Z",
          "iopub.status.busy": "2022-05-11T07:51:40.552036Z",
          "iopub.status.idle": "2022-05-11T07:51:40.554531Z",
          "shell.execute_reply": "2022-05-11T07:51:40.555028Z",
          "shell.execute_reply.started": "2022-04-24T08:57:39.263653Z"
        },
        "papermill": {
          "duration": 0.029404,
          "end_time": "2022-05-11T07:51:40.555157",
          "exception": false,
          "start_time": "2022-05-11T07:51:40.525753",
          "status": "completed"
        },
        "tags": [],
        "colab": {
          "base_uri": "https://localhost:8080/"
        },
        "id": "dc521eda",
        "outputId": "40049658-6b68-49c1-e5d4-b4d7426924e2"
      },
      "outputs": [
        {
          "output_type": "execute_result",
          "data": {
            "text/plain": [
              "15209"
            ]
          },
          "metadata": {},
          "execution_count": 35
        }
      ],
      "source": [
        "len(val_data)"
      ]
    },
    {
      "cell_type": "code",
      "execution_count": null,
      "id": "c7cedc35",
      "metadata": {
        "execution": {
          "iopub.execute_input": "2022-05-11T07:51:40.653213Z",
          "iopub.status.busy": "2022-05-11T07:51:40.642958Z",
          "iopub.status.idle": "2022-05-11T07:51:40.745357Z",
          "shell.execute_reply": "2022-05-11T07:51:40.744558Z",
          "shell.execute_reply.started": "2022-04-24T08:57:39.271192Z"
        },
        "papermill": {
          "duration": 0.167897,
          "end_time": "2022-05-11T07:51:40.745479",
          "exception": false,
          "start_time": "2022-05-11T07:51:40.577582",
          "status": "completed"
        },
        "tags": [],
        "id": "c7cedc35"
      },
      "outputs": [],
      "source": [
        "random.shuffle(train_data)\n",
        "random.shuffle(val_data)"
      ]
    },
    {
      "cell_type": "code",
      "execution_count": null,
      "id": "4fcdf10a",
      "metadata": {
        "execution": {
          "iopub.execute_input": "2022-05-11T07:51:40.797847Z",
          "iopub.status.busy": "2022-05-11T07:51:40.797142Z",
          "iopub.status.idle": "2022-05-11T07:51:40.861847Z",
          "shell.execute_reply": "2022-05-11T07:51:40.861420Z",
          "shell.execute_reply.started": "2022-04-24T08:57:39.418663Z"
        },
        "papermill": {
          "duration": 0.09426,
          "end_time": "2022-05-11T07:51:40.861966",
          "exception": false,
          "start_time": "2022-05-11T07:51:40.767706",
          "status": "completed"
        },
        "tags": [],
        "id": "4fcdf10a"
      },
      "outputs": [],
      "source": [
        "#Separating the feature and labels into train_x and train_y arrays respetively.\n",
        "train_X = []\n",
        "train_Y = []\n",
        "for features,label in train_data:\n",
        "    train_X.append(features)\n",
        "    train_Y.append(label)"
      ]
    },
    {
      "cell_type": "code",
      "execution_count": null,
      "id": "680fabca",
      "metadata": {
        "execution": {
          "iopub.execute_input": "2022-05-11T07:51:40.918807Z",
          "iopub.status.busy": "2022-05-11T07:51:40.918119Z",
          "iopub.status.idle": "2022-05-11T07:51:40.921408Z",
          "shell.execute_reply": "2022-05-11T07:51:40.920953Z",
          "shell.execute_reply.started": "2022-04-24T08:57:39.49864Z"
        },
        "papermill": {
          "duration": 0.037325,
          "end_time": "2022-05-11T07:51:40.921519",
          "exception": false,
          "start_time": "2022-05-11T07:51:40.884194",
          "status": "completed"
        },
        "tags": [],
        "id": "680fabca"
      },
      "outputs": [],
      "source": [
        "val_X = []\n",
        "val_Y = []\n",
        "for features,label in val_data:\n",
        "  val_X.append(features)\n",
        "  val_Y.append(label)"
      ]
    },
    {
      "cell_type": "code",
      "execution_count": null,
      "id": "9f554b12",
      "metadata": {
        "execution": {
          "iopub.execute_input": "2022-05-11T07:51:41.030515Z",
          "iopub.status.busy": "2022-05-11T07:51:41.029776Z",
          "iopub.status.idle": "2022-05-11T07:51:41.399839Z",
          "shell.execute_reply": "2022-05-11T07:51:41.399358Z",
          "shell.execute_reply.started": "2022-04-24T08:57:39.521333Z"
        },
        "papermill": {
          "duration": 0.456271,
          "end_time": "2022-05-11T07:51:41.399970",
          "exception": false,
          "start_time": "2022-05-11T07:51:40.943699",
          "status": "completed"
        },
        "tags": [],
        "id": "9f554b12"
      },
      "outputs": [],
      "source": [
        "LB = LabelBinarizer()  #This function comes under scikit learn module, it accepts categorical data as input and returns numpy array as output.\n",
        "train_Y = LB.fit_transform(train_Y)\n",
        "val_Y = LB.fit_transform(val_Y)  #Transforming the array into numpy array"
      ]
    },
    {
      "cell_type": "code",
      "execution_count": null,
      "id": "25cae818",
      "metadata": {
        "execution": {
          "iopub.execute_input": "2022-05-11T07:51:41.492709Z",
          "iopub.status.busy": "2022-05-11T07:51:41.491706Z",
          "iopub.status.idle": "2022-05-11T07:51:42.009509Z",
          "shell.execute_reply": "2022-05-11T07:51:42.008992Z",
          "shell.execute_reply.started": "2022-04-24T08:57:39.955648Z"
        },
        "papermill": {
          "duration": 0.580031,
          "end_time": "2022-05-11T07:51:42.009659",
          "exception": false,
          "start_time": "2022-05-11T07:51:41.429628",
          "status": "completed"
        },
        "tags": [],
        "id": "25cae818"
      },
      "outputs": [],
      "source": [
        "train_X = np.array(train_X)/255.0\n",
        "train_X = train_X.reshape(-1,32,32,1) # -1 is used because the number of elements in ndarray or the tensor must remain same. While (32,32,1) is the lenght, width and height of image.\n",
        "train_Y = np.array(train_Y) #Converting the train_Y array into a numpy array."
      ]
    },
    {
      "cell_type": "code",
      "execution_count": null,
      "id": "3c72ba3c",
      "metadata": {
        "execution": {
          "iopub.execute_input": "2022-05-11T07:51:42.065462Z",
          "iopub.status.busy": "2022-05-11T07:51:42.064597Z",
          "iopub.status.idle": "2022-05-11T07:51:42.123581Z",
          "shell.execute_reply": "2022-05-11T07:51:42.122954Z",
          "shell.execute_reply.started": "2022-04-24T08:57:40.507698Z"
        },
        "papermill": {
          "duration": 0.089979,
          "end_time": "2022-05-11T07:51:42.123705",
          "exception": false,
          "start_time": "2022-05-11T07:51:42.033726",
          "status": "completed"
        },
        "tags": [],
        "id": "3c72ba3c"
      },
      "outputs": [],
      "source": [
        "val_X = np.array(val_X)/255.0\n",
        "val_X = val_X.reshape(-1,32,32,1)\n",
        "val_Y = np.array(val_Y)"
      ]
    },
    {
      "cell_type": "code",
      "execution_count": null,
      "id": "f26d8a19",
      "metadata": {
        "execution": {
          "iopub.execute_input": "2022-05-11T07:51:42.175483Z",
          "iopub.status.busy": "2022-05-11T07:51:42.174828Z",
          "iopub.status.idle": "2022-05-11T07:51:42.178526Z",
          "shell.execute_reply": "2022-05-11T07:51:42.178093Z",
          "shell.execute_reply.started": "2022-04-24T08:57:40.575074Z"
        },
        "papermill": {
          "duration": 0.03141,
          "end_time": "2022-05-11T07:51:42.178635",
          "exception": false,
          "start_time": "2022-05-11T07:51:42.147225",
          "status": "completed"
        },
        "tags": [],
        "colab": {
          "base_uri": "https://localhost:8080/"
        },
        "id": "f26d8a19",
        "outputId": "f9b83a5f-aea3-4ae1-e6a3-b6758fb27bf0"
      },
      "outputs": [
        {
          "output_type": "stream",
          "name": "stdout",
          "text": [
            "(140000, 32, 32, 1) (15209, 32, 32, 1)\n"
          ]
        }
      ],
      "source": [
        "print(train_X.shape,val_X.shape)"
      ]
    },
    {
      "cell_type": "code",
      "execution_count": null,
      "id": "c3334371",
      "metadata": {
        "execution": {
          "iopub.execute_input": "2022-05-11T07:51:42.233145Z",
          "iopub.status.busy": "2022-05-11T07:51:42.231526Z",
          "iopub.status.idle": "2022-05-11T07:51:42.235633Z",
          "shell.execute_reply": "2022-05-11T07:51:42.235014Z",
          "shell.execute_reply.started": "2022-04-24T08:57:40.58188Z"
        },
        "papermill": {
          "duration": 0.03229,
          "end_time": "2022-05-11T07:51:42.235769",
          "exception": false,
          "start_time": "2022-05-11T07:51:42.203479",
          "status": "completed"
        },
        "tags": [],
        "colab": {
          "base_uri": "https://localhost:8080/"
        },
        "id": "c3334371",
        "outputId": "2299c306-81ab-4a93-9923-b4eb1227fd0d"
      },
      "outputs": [
        {
          "output_type": "stream",
          "name": "stdout",
          "text": [
            "(140000, 35) (15209, 35)\n"
          ]
        }
      ],
      "source": [
        "print(train_Y.shape,val_Y.shape) # 35 is (26+9) total number of alphabets and numbers that are needed in training the dataset."
      ]
    },
    {
      "cell_type": "markdown",
      "source": [
        "## CNN Model"
      ],
      "metadata": {
        "id": "4ZSkUQhhtNW_"
      },
      "id": "4ZSkUQhhtNW_"
    },
    {
      "cell_type": "code",
      "execution_count": null,
      "id": "da8bf74b",
      "metadata": {
        "execution": {
          "iopub.execute_input": "2022-05-11T07:51:42.291542Z",
          "iopub.status.busy": "2022-05-11T07:51:42.290992Z",
          "iopub.status.idle": "2022-05-11T07:51:45.240401Z",
          "shell.execute_reply": "2022-05-11T07:51:45.239379Z",
          "shell.execute_reply.started": "2022-04-24T08:57:40.591623Z"
        },
        "papermill": {
          "duration": 2.980381,
          "end_time": "2022-05-11T07:51:45.240539",
          "exception": false,
          "start_time": "2022-05-11T07:51:42.260158",
          "status": "completed"
        },
        "tags": [],
        "id": "da8bf74b"
      },
      "outputs": [],
      "source": [
        "model = Sequential()\n",
        "\n",
        "model.add(Conv2D(32, (3, 3), padding = \"same\", activation='relu', input_shape=(32,32,1)))\n",
        "model.add(MaxPooling2D(pool_size=(2,2)))\n",
        "\n",
        "model.add(Conv2D(64, (3, 3), activation='relu'))\n",
        "model.add(MaxPooling2D(pool_size=(2,2)))\n",
        "\n",
        "model.add(Conv2D(128, (3, 3), activation='relu'))\n",
        "model.add(MaxPooling2D(pool_size=(2,2)))\n",
        "\n",
        "model.add(Dropout(0.25))\n",
        " \n",
        "model.add(Flatten())\n",
        "model.add(Dense(128, activation='relu'))\n",
        "model.add(Dropout(0.2))\n",
        "model.add(Dense(35, activation='softmax'))"
      ]
    },
    {
      "cell_type": "code",
      "execution_count": null,
      "id": "84b30923",
      "metadata": {
        "execution": {
          "iopub.execute_input": "2022-05-11T07:51:45.296125Z",
          "iopub.status.busy": "2022-05-11T07:51:45.295255Z",
          "iopub.status.idle": "2022-05-11T07:51:45.301771Z",
          "shell.execute_reply": "2022-05-11T07:51:45.301350Z",
          "shell.execute_reply.started": "2022-04-24T08:57:42.839644Z"
        },
        "papermill": {
          "duration": 0.037071,
          "end_time": "2022-05-11T07:51:45.301904",
          "exception": false,
          "start_time": "2022-05-11T07:51:45.264833",
          "status": "completed"
        },
        "tags": [],
        "colab": {
          "base_uri": "https://localhost:8080/"
        },
        "id": "84b30923",
        "outputId": "ac5fd460-7090-4d23-a015-159848ac49b7"
      },
      "outputs": [
        {
          "output_type": "stream",
          "name": "stdout",
          "text": [
            "Model: \"sequential\"\n",
            "_________________________________________________________________\n",
            " Layer (type)                Output Shape              Param #   \n",
            "=================================================================\n",
            " conv2d (Conv2D)             (None, 32, 32, 32)        320       \n",
            "                                                                 \n",
            " max_pooling2d (MaxPooling2D  (None, 16, 16, 32)       0         \n",
            " )                                                               \n",
            "                                                                 \n",
            " conv2d_1 (Conv2D)           (None, 14, 14, 64)        18496     \n",
            "                                                                 \n",
            " max_pooling2d_1 (MaxPooling  (None, 7, 7, 64)         0         \n",
            " 2D)                                                             \n",
            "                                                                 \n",
            " conv2d_2 (Conv2D)           (None, 5, 5, 128)         73856     \n",
            "                                                                 \n",
            " max_pooling2d_2 (MaxPooling  (None, 2, 2, 128)        0         \n",
            " 2D)                                                             \n",
            "                                                                 \n",
            " dropout (Dropout)           (None, 2, 2, 128)         0         \n",
            "                                                                 \n",
            " flatten (Flatten)           (None, 512)               0         \n",
            "                                                                 \n",
            " dense (Dense)               (None, 128)               65664     \n",
            "                                                                 \n",
            " dropout_1 (Dropout)         (None, 128)               0         \n",
            "                                                                 \n",
            " dense_1 (Dense)             (None, 35)                4515      \n",
            "                                                                 \n",
            "=================================================================\n",
            "Total params: 162,851\n",
            "Trainable params: 162,851\n",
            "Non-trainable params: 0\n",
            "_________________________________________________________________\n"
          ]
        }
      ],
      "source": [
        "model.summary()"
      ]
    },
    {
      "cell_type": "code",
      "execution_count": null,
      "id": "c2b8be55",
      "metadata": {
        "execution": {
          "iopub.execute_input": "2022-05-11T07:51:45.360186Z",
          "iopub.status.busy": "2022-05-11T07:51:45.356210Z",
          "iopub.status.idle": "2022-05-11T07:51:45.366362Z",
          "shell.execute_reply": "2022-05-11T07:51:45.365918Z",
          "shell.execute_reply.started": "2022-04-24T08:57:42.852461Z"
        },
        "papermill": {
          "duration": 0.039824,
          "end_time": "2022-05-11T07:51:45.366488",
          "exception": false,
          "start_time": "2022-05-11T07:51:45.326664",
          "status": "completed"
        },
        "tags": [],
        "id": "c2b8be55"
      },
      "outputs": [],
      "source": [
        "model.compile(loss='categorical_crossentropy', optimizer=\"adam\",metrics=['accuracy'])"
      ]
    },
    {
      "cell_type": "code",
      "execution_count": null,
      "id": "5d3c72c3",
      "metadata": {
        "execution": {
          "iopub.execute_input": "2022-05-11T07:51:45.419974Z",
          "iopub.status.busy": "2022-05-11T07:51:45.419379Z",
          "iopub.status.idle": "2022-05-11T08:05:09.386969Z",
          "shell.execute_reply": "2022-05-11T08:05:09.386435Z",
          "shell.execute_reply.started": "2022-04-24T08:57:42.868175Z"
        },
        "papermill": {
          "duration": 803.996422,
          "end_time": "2022-05-11T08:05:09.387116",
          "exception": false,
          "start_time": "2022-05-11T07:51:45.390694",
          "status": "completed"
        },
        "tags": [],
        "colab": {
          "base_uri": "https://localhost:8080/"
        },
        "id": "5d3c72c3",
        "outputId": "9f225f16-dc23-4597-9522-aab6b6777a7b"
      },
      "outputs": [
        {
          "output_type": "stream",
          "name": "stdout",
          "text": [
            "Epoch 1/10\n",
            "4375/4375 [==============================] - 260s 59ms/step - loss: 0.6076 - accuracy: 0.8066 - val_loss: 0.3267 - val_accuracy: 0.8892\n",
            "Epoch 2/10\n",
            "4375/4375 [==============================] - 239s 55ms/step - loss: 0.3406 - accuracy: 0.8854 - val_loss: 0.2668 - val_accuracy: 0.9108\n",
            "Epoch 3/10\n",
            "4375/4375 [==============================] - 236s 54ms/step - loss: 0.2978 - accuracy: 0.8984 - val_loss: 0.2917 - val_accuracy: 0.8972\n",
            "Epoch 4/10\n",
            "4375/4375 [==============================] - 237s 54ms/step - loss: 0.2752 - accuracy: 0.9061 - val_loss: 0.2713 - val_accuracy: 0.8987\n",
            "Epoch 5/10\n",
            "4375/4375 [==============================] - 232s 53ms/step - loss: 0.2559 - accuracy: 0.9106 - val_loss: 0.2196 - val_accuracy: 0.9245\n",
            "Epoch 6/10\n",
            "4375/4375 [==============================] - 233s 53ms/step - loss: 0.2432 - accuracy: 0.9150 - val_loss: 0.2671 - val_accuracy: 0.9007\n",
            "Epoch 7/10\n",
            "4375/4375 [==============================] - 231s 53ms/step - loss: 0.2348 - accuracy: 0.9172 - val_loss: 0.2331 - val_accuracy: 0.9175\n",
            "Epoch 8/10\n",
            "4375/4375 [==============================] - 227s 52ms/step - loss: 0.2264 - accuracy: 0.9201 - val_loss: 0.2733 - val_accuracy: 0.8990\n",
            "Epoch 9/10\n",
            "4375/4375 [==============================] - 227s 52ms/step - loss: 0.2192 - accuracy: 0.9215 - val_loss: 0.2349 - val_accuracy: 0.9139\n",
            "Epoch 10/10\n",
            "4375/4375 [==============================] - 226s 52ms/step - loss: 0.2145 - accuracy: 0.9234 - val_loss: 0.2318 - val_accuracy: 0.9212\n"
          ]
        }
      ],
      "source": [
        "history = model.fit(train_X,train_Y, epochs=10, batch_size=32, validation_data = (val_X, val_Y),  verbose=1)"
      ]
    },
    {
      "cell_type": "markdown",
      "source": [
        "Plotting the graphs for validation"
      ],
      "metadata": {
        "id": "RSNI4eLzubQb"
      },
      "id": "RSNI4eLzubQb"
    },
    {
      "cell_type": "code",
      "execution_count": null,
      "id": "ebc27e67",
      "metadata": {
        "execution": {
          "iopub.execute_input": "2022-05-11T08:05:17.001480Z",
          "iopub.status.busy": "2022-05-11T08:05:17.000112Z",
          "iopub.status.idle": "2022-05-11T08:05:17.233229Z",
          "shell.execute_reply": "2022-05-11T08:05:17.233722Z",
          "shell.execute_reply.started": "2022-04-24T09:11:06.631801Z"
        },
        "papermill": {
          "duration": 4.157853,
          "end_time": "2022-05-11T08:05:17.233888",
          "exception": false,
          "start_time": "2022-05-11T08:05:13.076035",
          "status": "completed"
        },
        "tags": [],
        "id": "ebc27e67",
        "colab": {
          "base_uri": "https://localhost:8080/",
          "height": 295
        },
        "outputId": "e1eb72a8-c064-4ef9-c885-44eebcf57a1b"
      },
      "outputs": [
        {
          "output_type": "display_data",
          "data": {
            "text/plain": [
              "<Figure size 432x288 with 1 Axes>"
            ],
            "image/png": "[encoded data removed]"
          },
          "metadata": {
            "needs_background": "light"
          }
        }
      ],
      "source": [
        "plt.plot(history.history['accuracy'])\n",
        "plt.plot(history.history['val_accuracy'])\n",
        "plt.title('Training Accuracy vs Validation Accuracy')\n",
        "plt.ylabel('Accuracy')\n",
        "plt.xlabel('Epoch')\n",
        "plt.legend(['Train', 'Validation'], loc='upper left')\n",
        "plt.show()"
      ]
    },
    {
      "cell_type": "code",
      "execution_count": null,
      "id": "984858df",
      "metadata": {
        "execution": {
          "iopub.execute_input": "2022-05-11T08:05:24.530653Z",
          "iopub.status.busy": "2022-05-11T08:05:24.529808Z",
          "iopub.status.idle": "2022-05-11T08:05:24.697747Z",
          "shell.execute_reply": "2022-05-11T08:05:24.698255Z",
          "shell.execute_reply.started": "2022-04-24T09:11:06.861508Z"
        },
        "papermill": {
          "duration": 3.878585,
          "end_time": "2022-05-11T08:05:24.698428",
          "exception": false,
          "start_time": "2022-05-11T08:05:20.819843",
          "status": "completed"
        },
        "tags": [],
        "id": "984858df",
        "colab": {
          "base_uri": "https://localhost:8080/",
          "height": 295
        },
        "outputId": "042bbfc4-3156-4cc4-db0e-43df09f29c6f"
      },
      "outputs": [
        {
          "output_type": "display_data",
          "data": {
            "text/plain": [
              "<Figure size 432x288 with 1 Axes>"
            ],
            "image/png": "[encoded data removed]"
          },
          "metadata": {
            "needs_background": "light"
          }
        }
      ],
      "source": [
        "plt.plot(history.history['loss'])\n",
        "plt.plot(history.history['val_loss'])\n",
        "plt.title('Training Loss vs Validation Loss')\n",
        "plt.ylabel('Loss')\n",
        "plt.xlabel('Epoch')\n",
        "plt.legend(['Train', 'Validation'], loc='upper left')\n",
        "plt.show()"
      ]
    },
    {
      "cell_type": "markdown",
      "id": "e4a240e8",
      "metadata": {
        "papermill": {
          "duration": 3.73927,
          "end_time": "2022-05-11T08:05:32.369132",
          "exception": false,
          "start_time": "2022-05-11T08:05:28.629862",
          "status": "completed"
        },
        "tags": [],
        "id": "e4a240e8"
      },
      "source": [
        "## Recognition and Post-Processing \n",
        "1. The sort contours function is used to get the correct order of individual characters for correct output extraction. In this case for extracting a single word, a left to right sorting of individual characters is needed.\n",
        "2. The get letters function fetches the list of letters and get word function gets the individual word. "
      ]
    },
    {
      "cell_type": "code",
      "execution_count": null,
      "id": "128428d0",
      "metadata": {
        "execution": {
          "iopub.execute_input": "2022-05-11T08:05:40.789652Z",
          "iopub.status.busy": "2022-05-11T08:05:40.789053Z",
          "iopub.status.idle": "2022-05-11T08:05:40.792715Z",
          "shell.execute_reply": "2022-05-11T08:05:40.792255Z",
          "shell.execute_reply.started": "2022-04-24T09:11:07.043351Z"
        },
        "papermill": {
          "duration": 3.953389,
          "end_time": "2022-05-11T08:05:40.792844",
          "exception": false,
          "start_time": "2022-05-11T08:05:36.839455",
          "status": "completed"
        },
        "tags": [],
        "id": "128428d0"
      },
      "outputs": [],
      "source": [
        "def sort_contours(cnts, method=\"left-to-right\"):\n",
        "    reverse = False\n",
        "    i = 0\n",
        "    if method == \"right-to-left\" or method == \"bottom-to-top\":\n",
        "        reverse = True\n",
        "    if method == \"top-to-bottom\" or method == \"bottom-to-top\":\n",
        "        i = 1\n",
        "    boundingBoxes = [cv2.boundingRect(c) for c in cnts]\n",
        "    (cnts, boundingBoxes) = zip(*sorted(zip(cnts, boundingBoxes),\n",
        "    key=lambda b:b[1][i], reverse=reverse))\n",
        "    \n",
        "    return (cnts, boundingBoxes)"
      ]
    },
    {
      "cell_type": "code",
      "execution_count": null,
      "id": "66f4b926",
      "metadata": {
        "execution": {
          "iopub.execute_input": "2022-05-11T08:05:48.131288Z",
          "iopub.status.busy": "2022-05-11T08:05:48.130150Z",
          "iopub.status.idle": "2022-05-11T08:05:48.131895Z",
          "shell.execute_reply": "2022-05-11T08:05:48.132309Z",
          "shell.execute_reply.started": "2022-04-24T09:11:07.050991Z"
        },
        "papermill": {
          "duration": 3.651779,
          "end_time": "2022-05-11T08:05:48.132463",
          "exception": false,
          "start_time": "2022-05-11T08:05:44.480684",
          "status": "completed"
        },
        "tags": [],
        "id": "66f4b926"
      },
      "outputs": [],
      "source": [
        "def get_letters(img):\n",
        "    letters = []\n",
        "    image = cv2.imread(img)\n",
        "    gray = cv2.cvtColor(image, cv2.COLOR_BGR2GRAY)\n",
        "    ret,thresh1 = cv2.threshold(gray ,127,255,cv2.THRESH_BINARY_INV)\n",
        "    dilated = cv2.dilate(thresh1, None, iterations=2)\n",
        "\n",
        "    cnts = cv2.findContours(dilated.copy(), cv2.RETR_EXTERNAL,cv2.CHAIN_APPROX_SIMPLE)\n",
        "    cnts = imutils.grab_contours(cnts)\n",
        "    cnts = sort_contours(cnts, method=\"left-to-right\")[0]\n",
        "    \n",
        "    for c in cnts:\n",
        "        if cv2.contourArea(c) > 10:\n",
        "            (x, y, w, h) = cv2.boundingRect(c)\n",
        "            cv2.rectangle(image, (x, y), (x + w, y + h), (0, 255, 0), 2)\n",
        "        roi = gray[y:y + h, x:x + w]\n",
        "        thresh = cv2.threshold(roi, 0, 255,cv2.THRESH_BINARY_INV | cv2.THRESH_OTSU)[1]\n",
        "        thresh = cv2.resize(thresh, (32, 32), interpolation = cv2.INTER_CUBIC)\n",
        "        thresh = thresh.astype(\"float32\") / 255.0\n",
        "        thresh = np.expand_dims(thresh, axis=-1)\n",
        "        thresh = thresh.reshape(1,32,32,1)\n",
        "        ypred = model.predict(thresh)\n",
        "        ypred = LB.inverse_transform(ypred)\n",
        "        [x] = ypred\n",
        "        letters.append(x)\n",
        "    return letters, image\n",
        "\n"
      ]
    },
    {
      "cell_type": "code",
      "execution_count": null,
      "id": "5cb893e5",
      "metadata": {
        "execution": {
          "iopub.execute_input": "2022-05-11T08:05:55.742248Z",
          "iopub.status.busy": "2022-05-11T08:05:55.741351Z",
          "iopub.status.idle": "2022-05-11T08:05:55.743670Z",
          "shell.execute_reply": "2022-05-11T08:05:55.743126Z",
          "shell.execute_reply.started": "2022-04-24T09:11:07.065678Z"
        },
        "papermill": {
          "duration": 3.677418,
          "end_time": "2022-05-11T08:05:55.743788",
          "exception": false,
          "start_time": "2022-05-11T08:05:52.066370",
          "status": "completed"
        },
        "tags": [],
        "id": "5cb893e5"
      },
      "outputs": [],
      "source": [
        "def get_word(letter):\n",
        "    word = \"\".join(letter)\n",
        "    return word"
      ]
    },
    {
      "cell_type": "code",
      "execution_count": null,
      "id": "dcabe6dd",
      "metadata": {
        "execution": {
          "iopub.execute_input": "2022-05-11T08:06:03.384444Z",
          "iopub.status.busy": "2022-05-11T08:06:03.383664Z",
          "iopub.status.idle": "2022-05-11T08:06:03.924688Z",
          "shell.execute_reply": "2022-05-11T08:06:03.924220Z",
          "shell.execute_reply.started": "2022-04-24T09:11:07.076096Z"
        },
        "papermill": {
          "duration": 4.516489,
          "end_time": "2022-05-11T08:06:03.924830",
          "exception": false,
          "start_time": "2022-05-11T08:05:59.408341",
          "status": "completed"
        },
        "tags": [],
        "colab": {
          "base_uri": "https://localhost:8080/",
          "height": 123
        },
        "id": "dcabe6dd",
        "outputId": "dd465987-9cb0-4921-efcc-6813f96e3f11"
      },
      "outputs": [
        {
          "output_type": "stream",
          "name": "stdout",
          "text": [
            "JFANARDLH\n"
          ]
        },
        {
          "output_type": "execute_result",
          "data": {
            "text/plain": [
              "<matplotlib.image.AxesImage at 0x7f68fb3f0950>"
            ]
          },
          "metadata": {},
          "execution_count": 71
        },
        {
          "output_type": "display_data",
          "data": {
            "text/plain": [
              "<Figure size 432x288 with 1 Axes>"
            ],
            "image/png": "[encoded data removed]"
          },
          "metadata": {
            "needs_background": "light"
          }
        }
      ],
      "source": [
        "letter,image = get_letters(\"/content/validation_v2/validation/VALIDATION_0004.jpg\")\n",
        "word = get_word(letter)\n",
        "print(word)\n",
        "plt.imshow(image)\n"
      ]
    },
    {
      "cell_type": "code",
      "execution_count": null,
      "id": "f11ec9f3",
      "metadata": {
        "execution": {
          "iopub.execute_input": "2022-05-11T08:06:12.007276Z",
          "iopub.status.busy": "2022-05-11T08:06:12.006520Z",
          "iopub.status.idle": "2022-05-11T08:06:12.392742Z",
          "shell.execute_reply": "2022-05-11T08:06:12.391043Z",
          "shell.execute_reply.started": "2022-04-24T09:11:07.644395Z"
        },
        "papermill": {
          "duration": 4.31926,
          "end_time": "2022-05-11T08:06:12.392905",
          "exception": false,
          "start_time": "2022-05-11T08:06:08.073645",
          "status": "completed"
        },
        "tags": [],
        "id": "f11ec9f3",
        "colab": {
          "base_uri": "https://localhost:8080/",
          "height": 123
        },
        "outputId": "cf39232f-2f2f-454f-c8ed-81acb6485d19"
      },
      "outputs": [
        {
          "output_type": "stream",
          "name": "stdout",
          "text": [
            "RUPP\n"
          ]
        },
        {
          "output_type": "execute_result",
          "data": {
            "text/plain": [
              "<matplotlib.image.AxesImage at 0x7f68fb3bb790>"
            ]
          },
          "metadata": {},
          "execution_count": 58
        },
        {
          "output_type": "display_data",
          "data": {
            "text/plain": [
              "<Figure size 432x288 with 1 Axes>"
            ],
            "image/png": "[encoded data removed]"
          },
          "metadata": {
            "needs_background": "light"
          }
        }
      ],
      "source": [
        "letter,image = get_letters(\"\")\n",
        "word = get_word(letter)\n",
        "print(word)\n",
        "plt.imshow(image)"
      ]
    }
  ],
  "metadata": {
    "kernelspec": {
      "display_name": "Python 3",
      "language": "python",
      "name": "python3"
    },
    "language_info": {
      "codemirror_mode": {
        "name": "ipython",
        "version": 3
      },
      "file_extension": ".py",
      "mimetype": "text/x-python",
      "name": "python",
      "nbconvert_exporter": "python",
      "pygments_lexer": "ipython3",
      "version": "3.7.12"
    },
    "papermill": {
      "default_parameters": {},
      "duration": 1889.881855,
      "end_time": "2022-05-11T08:06:44.001799",
      "environment_variables": {},
      "exception": null,
      "input_path": "__notebook__.ipynb",
      "output_path": "__notebook__.ipynb",
      "parameters": {},
      "start_time": "2022-05-11T07:35:14.119944",
      "version": "2.3.3"
    },
    "colab": {
      "name": "handwritten-text-recognizer.ipynb",
      "provenance": [],
      "collapsed_sections": [],
      "include_colab_link": true
    }
  },
  "nbformat": 4,
  "nbformat_minor": 5
}